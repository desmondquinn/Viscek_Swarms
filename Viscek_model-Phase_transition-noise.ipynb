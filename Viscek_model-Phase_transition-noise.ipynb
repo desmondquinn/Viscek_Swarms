{
 "cells": [
  {
   "cell_type": "code",
   "execution_count": 1,
   "id": "93ae7cef-035b-4a84-9da2-e70ed115afae",
   "metadata": {},
   "outputs": [],
   "source": [
    "import numpy as np\n",
    "import matplotlib.pyplot as plt\n",
    "import math\n",
    "from matplotlib.animation import FuncAnimation\n",
    "from IPython.display import HTML\n",
    "from tqdm import tqdm"
   ]
  },
  {
   "cell_type": "code",
   "execution_count": 2,
   "id": "5cf745f1-6127-40b2-b2ae-ab734765c4c8",
   "metadata": {},
   "outputs": [],
   "source": [
    "plt.rcParams.update({'font.size': 12,\n",
    "                     'axes.titlesize': 12,\n",
    "                     'axes.labelsize': 18,\n",
    "                     'lines.linewidth': 1,\n",
    "                     'lines.markersize': 10,\n",
    "                     'xtick.labelsize' : 10,\n",
    "                     'ytick.labelsize' : 10,\n",
    "                     'xtick.top' : True,\n",
    "                     'xtick.direction' : 'in',\n",
    "                     'ytick.right' : True,\n",
    "                     'ytick.direction' : 'in',}) "
   ]
  },
  {
   "cell_type": "markdown",
   "id": "07d7104f-cdb7-40ad-8348-c23bc4865092",
   "metadata": {},
   "source": [
    "# This notebook shows the flocking phase transition with respect to the noise level "
   ]
  },
  {
   "cell_type": "markdown",
   "id": "1d1b5c3d-f4be-4796-878a-3737019900f2",
   "metadata": {},
   "source": [
    "### An individual bird $i$ at position $r_{i}(t)$ propelling with a speed $v_{0}$ in the direction defined by the angle $\\Theta_{i}(t)$ at time $t$ changes its direction to align with its neighbours within a distance $r$. \n",
    "### The dynamics is governed by the following 2 equations:"
   ]
  },
  {
   "cell_type": "markdown",
   "id": "611cce4d-12f1-41d4-99aa-1d10bc9ee760",
   "metadata": {},
   "source": [
    "### (1) $\\Theta_{i}(t+dt) = \\langle \\Theta_{j} \\rangle _{|r_{i} - r_{j}|<r} + \\eta $\n",
    "### (2) $ r_{i}(t + dt) = r_{i}(t) + v_{0} \\cdot dt \\cdot \\begin{bmatrix} \\cos \\Theta_{i}(t) \\\\ \\sin \\Theta_{i}(t) \\end{bmatrix} $"
   ]
  },
  {
   "cell_type": "markdown",
   "id": "36335ceb-30be-4aa1-928e-a81feac1bc1c",
   "metadata": {},
   "source": [
    "### where $\\eta$ is the uncertainty due to noise"
   ]
  },
  {
   "cell_type": "code",
   "execution_count": 192,
   "id": "7ab3bc15-4051-4efc-9e93-62f43fa5b5dd",
   "metadata": {},
   "outputs": [],
   "source": [
    "#Define configuration\n",
    "L = 50\n",
    "rho_N = 0.8 #number density of agents\n",
    "N = int(rho_N*(L**2)) #number of agents in the defined 2D space\n",
    "eta = 0.12\n",
    "roi = 2\n",
    "#dt = 0.01 #time step\n",
    "dt = 1\n",
    "velocity = 0.8 #propulsion velocity"
   ]
  },
  {
   "cell_type": "code",
   "execution_count": 193,
   "id": "58e3bf72-bc35-4fe1-aa9c-77586b581406",
   "metadata": {},
   "outputs": [],
   "source": [
    "#initialise the agent coordinates and orientations\n",
    "#positions_x = np.random.uniform(0,L,N)\n",
    "#positions_y = np.random.uniform(0,L,N)\n",
    "positions = np.random.uniform(0,L,size=(N,2))\n",
    "orientations = np.random.uniform(-np.pi,np.pi,N)\n",
    "velocities = np.random.uniform(0,L,size=(N,2)) #velocity vectors"
   ]
  },
  {
   "cell_type": "code",
   "execution_count": 194,
   "id": "cbf13a4c-f4c6-49b0-baf4-8e383babed5e",
   "metadata": {},
   "outputs": [],
   "source": [
    "def get_neighbours(x0,y0,positions,roi):\n",
    "    ##Returns ids (index) of all neighbours within radius of influence of the particle \n",
    "    noi = [] #neighbours of influence\n",
    "    for i,(x,y) in enumerate(positions):\n",
    "        distance = np.sqrt((x-x0)**2 + (y-y0)**2)\n",
    "        if distance < roi:\n",
    "            noi.append(i)\n",
    "    return(noi)"
   ]
  },
  {
   "cell_type": "code",
   "execution_count": 195,
   "id": "244b4615-fd72-4470-9c59-ae582bf397b6",
   "metadata": {},
   "outputs": [],
   "source": [
    "def get_avg_unit_vector(noi,orientations):\n",
    "    unit_vec_list = []\n",
    "    for i in noi:\n",
    "        theta = orientations[i]\n",
    "        vec = np.array([np.cos(theta),np.sin(theta)])\n",
    "        mag = np.sqrt(vec[0]**2 + vec[1]**2)\n",
    "        unit_vec = vec/mag\n",
    "        unit_vec_list.append(unit_vec)\n",
    "    avg_unit_vec = np.mean(np.array(unit_vec_list),axis=0)\n",
    "    return(avg_unit_vec)"
   ]
  },
  {
   "cell_type": "markdown",
   "id": "89ee841f-2e35-4e1b-a92d-ed500c2d9402",
   "metadata": {},
   "source": [
    "## Evolution of global order over time "
   ]
  },
  {
   "cell_type": "code",
   "execution_count": 199,
   "id": "13c8f381-b10d-4cc2-be13-03d7fcb574cb",
   "metadata": {},
   "outputs": [
    {
     "name": "stderr",
     "output_type": "stream",
     "text": [
      "100%|██████████████████████████████████████████████████████████████████████████████████| 50/50 [04:36<00:00,  5.53s/it]\n"
     ]
    }
   ],
   "source": [
    "global_order_parameter = []\n",
    "\n",
    "total_steps = 50\n",
    "\n",
    "for f in tqdm(range(total_steps)):\n",
    "    for i,(xi,yi) in enumerate(positions):\n",
    "        neighbours = get_neighbours(xi,yi,positions,roi)\n",
    "        avg_unit_vector = get_avg_unit_vector(neighbours,orientations)\n",
    "        noise_vector = eta*np.random.uniform(-np.pi,np.pi,2)\n",
    "\n",
    "        #new orientation\n",
    "        new_orientation_vec = avg_unit_vector + noise_vector\n",
    "        \n",
    "        #compute new position\n",
    "        positions[i,:] += (new_orientation_vec)*dt*velocity\n",
    "        velocities[i,:] = (new_orientation_vec)*velocity # velocity vectors\n",
    "\n",
    "        #compute new orientation\n",
    "        orientations[i] = math.atan2(new_orientation_vec[1],new_orientation_vec[0]) #convert orientation vector into orientation angle\n",
    "\n",
    "    #implement periodic boundary condition\n",
    "    positions[positions>L] -= L\n",
    "    positions[positions<0] += L\n",
    "\n",
    "    #compute global order parameter\n",
    "    velocities_mean = np.mean(velocities,axis=0) #average over different particles\n",
    "    velocities_mean = (np.sqrt(velocities_mean[0]**2 + velocities_mean[1]**2))/(velocity) #compute the magnitude and normalise\n",
    "    global_order_parameter.append(velocities_mean)"
   ]
  },
  {
   "cell_type": "markdown",
   "id": "03264d3d-6179-4216-882d-6d5541c695e9",
   "metadata": {},
   "source": [
    "# Change of order parameter over time"
   ]
  },
  {
   "cell_type": "code",
   "execution_count": 208,
   "id": "209708e5-8d3c-4194-9149-c22138f7e54d",
   "metadata": {},
   "outputs": [
    {
     "data": {
      "image/png": "[encoded data removed]",
      "text/plain": [
       "<Figure size 200x200 with 1 Axes>"
      ]
     },
     "metadata": {},
     "output_type": "display_data"
    }
   ],
   "source": [
    "time = np.linspace(0,total_steps,total_steps)\n",
    "plt.figure(figsize=(2,2))\n",
    "plt.scatter(time, global_order_parameter,s=5)\n",
    "plt.plot(time, global_order_parameter)\n",
    "plt.xlabel('Time')\n",
    "plt.ylabel('Order param')\n",
    "plt.title('$\\eta=0.18; n=0.8 $')\n",
    "plt.savefig('Evolution of order param.pdf', bbox_inches='tight')\n",
    "plt.savefig('Evolution of order param.png', bbox_inches='tight')"
   ]
  },
  {
   "cell_type": "markdown",
   "id": "bda333db-1614-4e9c-9091-4ab0d1f7b0ff",
   "metadata": {},
   "source": [
    "# Influence of noise $\\eta$"
   ]
  },
  {
   "cell_type": "code",
   "execution_count": 164,
   "id": "571c569d-e7a5-4315-a551-c08c4046b817",
   "metadata": {},
   "outputs": [],
   "source": [
    "#Define common configuration parameters\n",
    "L = 50\n",
    "rho_N = 0.8 #number density of agents\n",
    "N = int(rho_N*(L**2)) #number of agents in the defined 2D space\n",
    "#eta = 0.12 #noise intensity\n",
    "#eta = 0.12\n",
    "roi = 2\n",
    "#dt = 0.01 #time step\n",
    "dt = 1\n",
    "velocity = 0.8 #propulsion velocity"
   ]
  },
  {
   "cell_type": "code",
   "execution_count": 165,
   "id": "4cc7cf3c-d32c-44d0-8b5a-4d1672b1e82f",
   "metadata": {},
   "outputs": [],
   "source": [
    "#eta_values = [0.1,0.2,0.3,0.4,0.5,0.6]\n",
    "eta_values = [0.1,0.15,0.2,0.25,0.3,0.35]\n",
    "global_order_parameter_all = []"
   ]
  },
  {
   "cell_type": "code",
   "execution_count": 166,
   "id": "b0a8b1a6-7c35-4024-b4cc-0dd32cbb0bab",
   "metadata": {},
   "outputs": [
    {
     "name": "stderr",
     "output_type": "stream",
     "text": [
      "100%|██████████████████████████████████████████████████████████████████████████████████| 50/50 [04:34<00:00,  5.48s/it]\n"
     ]
    }
   ],
   "source": [
    "positions = np.random.uniform(0,L,size=(N,2))\n",
    "orientations = np.random.uniform(-np.pi,np.pi,N)\n",
    "velocities = np.random.uniform(0,L,size=(N,2)) #velocity vectors\n",
    "\n",
    "eta = eta_values[0]\n",
    "\n",
    "global_order_parameter = []\n",
    "\n",
    "total_steps = 50\n",
    "\n",
    "for f in tqdm(range(total_steps)):\n",
    "    for i,(xi,yi) in enumerate(positions):\n",
    "        neighbours = get_neighbours(xi,yi,positions,roi)\n",
    "        avg_unit_vector = get_avg_unit_vector(neighbours,orientations)\n",
    "        noise_vector = eta*np.random.uniform(-np.pi,np.pi,2)\n",
    "\n",
    "        #new orientation\n",
    "        new_orientation_vec = avg_unit_vector + noise_vector\n",
    "        \n",
    "        #compute new position\n",
    "        positions[i,:] += (new_orientation_vec)*dt*velocity\n",
    "        velocities[i,:] = (new_orientation_vec)*velocity # velocity vectors\n",
    "\n",
    "        #compute new orientation\n",
    "        orientations[i] = math.atan2(new_orientation_vec[1],new_orientation_vec[0]) #convert orientation vector into orientation angle\n",
    "\n",
    "    #implement periodic boundary condition\n",
    "    positions[positions>L] -= L\n",
    "    positions[positions<0] += L\n",
    "\n",
    "    #compute global order parameter\n",
    "    velocities_mean = np.mean(velocities,axis=0) #average over different particles\n",
    "    velocities_mean = (np.sqrt(velocities_mean[0]**2 + velocities_mean[1]**2))/(velocity) #compute the magnitude and normalise\n",
    "    global_order_parameter.append(velocities_mean)\n",
    "    \n",
    "global_order_parameter_all.append(global_order_parameter)"
   ]
  },
  {
   "cell_type": "code",
   "execution_count": 167,
   "id": "ceef8401-7b50-4788-93b7-c68a251c0fde",
   "metadata": {},
   "outputs": [
    {
     "name": "stderr",
     "output_type": "stream",
     "text": [
      "100%|██████████████████████████████████████████████████████████████████████████████████| 50/50 [04:33<00:00,  5.47s/it]\n"
     ]
    }
   ],
   "source": [
    "positions = np.random.uniform(0,L,size=(N,2))\n",
    "orientations = np.random.uniform(-np.pi,np.pi,N)\n",
    "velocities = np.random.uniform(0,L,size=(N,2)) #velocity vectors\n",
    "\n",
    "eta = eta_values[1]\n",
    "\n",
    "global_order_parameter = []\n",
    "\n",
    "total_steps = 50\n",
    "\n",
    "for f in tqdm(range(total_steps)):\n",
    "    for i,(xi,yi) in enumerate(positions):\n",
    "        neighbours = get_neighbours(xi,yi,positions,roi)\n",
    "        avg_unit_vector = get_avg_unit_vector(neighbours,orientations)\n",
    "        noise_vector = eta*np.random.uniform(-np.pi,np.pi,2)\n",
    "\n",
    "        #new orientation\n",
    "        new_orientation_vec = avg_unit_vector + noise_vector\n",
    "        \n",
    "        #compute new position\n",
    "        positions[i,:] += (new_orientation_vec)*dt*velocity\n",
    "        velocities[i,:] = (new_orientation_vec)*velocity # velocity vectors\n",
    "\n",
    "        #compute new orientation\n",
    "        orientations[i] = math.atan2(new_orientation_vec[1],new_orientation_vec[0]) #convert orientation vector into orientation angle\n",
    "\n",
    "    #implement periodic boundary condition\n",
    "    positions[positions>L] -= L\n",
    "    positions[positions<0] += L\n",
    "\n",
    "    #compute global order parameter\n",
    "    velocities_mean = np.mean(velocities,axis=0) #average over different particles\n",
    "    velocities_mean = (np.sqrt(velocities_mean[0]**2 + velocities_mean[1]**2))/(velocity) #compute the magnitude and normalise\n",
    "    global_order_parameter.append(velocities_mean)\n",
    "    \n",
    "global_order_parameter_all.append(global_order_parameter)"
   ]
  },
  {
   "cell_type": "code",
   "execution_count": 168,
   "id": "d77f1d8a-325c-4872-a572-1358c8f2df90",
   "metadata": {},
   "outputs": [
    {
     "name": "stderr",
     "output_type": "stream",
     "text": [
      "100%|██████████████████████████████████████████████████████████████████████████████████| 50/50 [04:33<00:00,  5.47s/it]\n"
     ]
    }
   ],
   "source": [
    "positions = np.random.uniform(0,L,size=(N,2))\n",
    "orientations = np.random.uniform(-np.pi,np.pi,N)\n",
    "velocities = np.random.uniform(0,L,size=(N,2)) #velocity vectors\n",
    "\n",
    "eta = eta_values[2]\n",
    "\n",
    "global_order_parameter = []\n",
    "\n",
    "total_steps = 50\n",
    "\n",
    "for f in tqdm(range(total_steps)):\n",
    "    for i,(xi,yi) in enumerate(positions):\n",
    "        neighbours = get_neighbours(xi,yi,positions,roi)\n",
    "        avg_unit_vector = get_avg_unit_vector(neighbours,orientations)\n",
    "        noise_vector = eta*np.random.uniform(-np.pi,np.pi,2)\n",
    "\n",
    "        #new orientation\n",
    "        new_orientation_vec = avg_unit_vector + noise_vector\n",
    "        \n",
    "        #compute new position\n",
    "        positions[i,:] += (new_orientation_vec)*dt*velocity\n",
    "        velocities[i,:] = (new_orientation_vec)*velocity # velocity vectors\n",
    "\n",
    "        #compute new orientation\n",
    "        orientations[i] = math.atan2(new_orientation_vec[1],new_orientation_vec[0]) #convert orientation vector into orientation angle\n",
    "\n",
    "    #implement periodic boundary condition\n",
    "    positions[positions>L] -= L\n",
    "    positions[positions<0] += L\n",
    "\n",
    "    #compute global order parameter\n",
    "    velocities_mean = np.mean(velocities,axis=0) #average over different particles\n",
    "    velocities_mean = (np.sqrt(velocities_mean[0]**2 + velocities_mean[1]**2))/(velocity) #compute the magnitude and normalise\n",
    "    global_order_parameter.append(velocities_mean)\n",
    "    \n",
    "global_order_parameter_all.append(global_order_parameter)"
   ]
  },
  {
   "cell_type": "code",
   "execution_count": 169,
   "id": "2a7e46b0-7101-4599-9402-abc8d97417a0",
   "metadata": {},
   "outputs": [
    {
     "name": "stderr",
     "output_type": "stream",
     "text": [
      "100%|██████████████████████████████████████████████████████████████████████████████████| 50/50 [04:50<00:00,  5.82s/it]\n"
     ]
    }
   ],
   "source": [
    "positions = np.random.uniform(0,L,size=(N,2))\n",
    "orientations = np.random.uniform(-np.pi,np.pi,N)\n",
    "velocities = np.random.uniform(0,L,size=(N,2)) #velocity vectors\n",
    "\n",
    "eta = eta_values[3]\n",
    "\n",
    "global_order_parameter = []\n",
    "\n",
    "total_steps = 50\n",
    "\n",
    "for f in tqdm(range(total_steps)):\n",
    "    for i,(xi,yi) in enumerate(positions):\n",
    "        neighbours = get_neighbours(xi,yi,positions,roi)\n",
    "        avg_unit_vector = get_avg_unit_vector(neighbours,orientations)\n",
    "        noise_vector = eta*np.random.uniform(-np.pi,np.pi,2)\n",
    "\n",
    "        #new orientation\n",
    "        new_orientation_vec = avg_unit_vector + noise_vector\n",
    "        \n",
    "        #compute new position\n",
    "        positions[i,:] += (new_orientation_vec)*dt*velocity\n",
    "        velocities[i,:] = (new_orientation_vec)*velocity # velocity vectors\n",
    "\n",
    "        #compute new orientation\n",
    "        orientations[i] = math.atan2(new_orientation_vec[1],new_orientation_vec[0]) #convert orientation vector into orientation angle\n",
    "\n",
    "    #implement periodic boundary condition\n",
    "    positions[positions>L] -= L\n",
    "    positions[positions<0] += L\n",
    "\n",
    "    #compute global order parameter\n",
    "    velocities_mean = np.mean(velocities,axis=0) #average over different particles\n",
    "    velocities_mean = (np.sqrt(velocities_mean[0]**2 + velocities_mean[1]**2))/(velocity) #compute the magnitude and normalise\n",
    "    global_order_parameter.append(velocities_mean)\n",
    "    \n",
    "global_order_parameter_all.append(global_order_parameter)"
   ]
  },
  {
   "cell_type": "code",
   "execution_count": 170,
   "id": "66d34968-a24c-4eb5-96eb-6a434d2e5388",
   "metadata": {},
   "outputs": [
    {
     "name": "stderr",
     "output_type": "stream",
     "text": [
      "100%|██████████████████████████████████████████████████████████████████████████████████| 50/50 [04:50<00:00,  5.80s/it]\n"
     ]
    }
   ],
   "source": [
    "positions = np.random.uniform(0,L,size=(N,2))\n",
    "orientations = np.random.uniform(-np.pi,np.pi,N)\n",
    "velocities = np.random.uniform(0,L,size=(N,2)) #velocity vectors\n",
    "\n",
    "eta = eta_values[4]\n",
    "\n",
    "global_order_parameter = []\n",
    "\n",
    "total_steps = 50\n",
    "\n",
    "for f in tqdm(range(total_steps)):\n",
    "    for i,(xi,yi) in enumerate(positions):\n",
    "        neighbours = get_neighbours(xi,yi,positions,roi)\n",
    "        avg_unit_vector = get_avg_unit_vector(neighbours,orientations)\n",
    "        noise_vector = eta*np.random.uniform(-np.pi,np.pi,2)\n",
    "\n",
    "        #new orientation\n",
    "        new_orientation_vec = avg_unit_vector + noise_vector\n",
    "        \n",
    "        #compute new position\n",
    "        positions[i,:] += (new_orientation_vec)*dt*velocity\n",
    "        velocities[i,:] = (new_orientation_vec)*velocity # velocity vectors\n",
    "\n",
    "        #compute new orientation\n",
    "        orientations[i] = math.atan2(new_orientation_vec[1],new_orientation_vec[0]) #convert orientation vector into orientation angle\n",
    "\n",
    "    #implement periodic boundary condition\n",
    "    positions[positions>L] -= L\n",
    "    positions[positions<0] += L\n",
    "\n",
    "    #compute global order parameter\n",
    "    velocities_mean = np.mean(velocities,axis=0) #average over different particles\n",
    "    velocities_mean = (np.sqrt(velocities_mean[0]**2 + velocities_mean[1]**2))/(velocity) #compute the magnitude and normalise\n",
    "    global_order_parameter.append(velocities_mean)\n",
    "    \n",
    "global_order_parameter_all.append(global_order_parameter)"
   ]
  },
  {
   "cell_type": "code",
   "execution_count": 171,
   "id": "ba42f91c-7484-4fd2-a7b5-08cb35040539",
   "metadata": {},
   "outputs": [
    {
     "name": "stderr",
     "output_type": "stream",
     "text": [
      "100%|██████████████████████████████████████████████████████████████████████████████████| 50/50 [05:02<00:00,  6.06s/it]\n"
     ]
    }
   ],
   "source": [
    "positions = np.random.uniform(0,L,size=(N,2))\n",
    "orientations = np.random.uniform(-np.pi,np.pi,N)\n",
    "velocities = np.random.uniform(0,L,size=(N,2)) #velocity vectors\n",
    "\n",
    "eta = eta_values[5]\n",
    "\n",
    "global_order_parameter = []\n",
    "\n",
    "total_steps = 50\n",
    "\n",
    "for f in tqdm(range(total_steps)):\n",
    "    for i,(xi,yi) in enumerate(positions):\n",
    "        neighbours = get_neighbours(xi,yi,positions,roi)\n",
    "        avg_unit_vector = get_avg_unit_vector(neighbours,orientations)\n",
    "        noise_vector = eta*np.random.uniform(-np.pi,np.pi,2)\n",
    "\n",
    "        #new orientation\n",
    "        new_orientation_vec = avg_unit_vector + noise_vector\n",
    "        \n",
    "        #compute new position\n",
    "        positions[i,:] += (new_orientation_vec)*dt*velocity\n",
    "        velocities[i,:] = (new_orientation_vec)*velocity # velocity vectors\n",
    "\n",
    "        #compute new orientation\n",
    "        orientations[i] = math.atan2(new_orientation_vec[1],new_orientation_vec[0]) #convert orientation vector into orientation angle\n",
    "\n",
    "    #implement periodic boundary condition\n",
    "    positions[positions>L] -= L\n",
    "    positions[positions<0] += L\n",
    "\n",
    "    #compute global order parameter\n",
    "    velocities_mean = np.mean(velocities,axis=0) #average over different particles\n",
    "    velocities_mean = (np.sqrt(velocities_mean[0]**2 + velocities_mean[1]**2))/(velocity) #compute the magnitude and normalise\n",
    "    global_order_parameter.append(velocities_mean)\n",
    "    \n",
    "global_order_parameter_all.append(global_order_parameter)"
   ]
  },
  {
   "cell_type": "code",
   "execution_count": 206,
   "id": "2bcf60cc-df7c-4e59-a79d-673672201dc9",
   "metadata": {},
   "outputs": [
    {
     "data": {
      "image/png": "[encoded data removed]",
      "text/plain": [
       "<Figure size 230x230 with 1 Axes>"
      ]
     },
     "metadata": {},
     "output_type": "display_data"
    }
   ],
   "source": [
    "global_order_parameters_final = [global_order_parameter_all[0][-1],global_order_parameter_all[1][-1],global_order_parameter_all[2][-1],\n",
    "         global_order_parameter_all[3][-1],global_order_parameter_all[4][-1],global_order_parameter_all[5][-1]]\n",
    "\n",
    "plt.figure(figsize=(2.3,2.3))\n",
    "plt.scatter(eta_values, global_order_parameters_final,s=25)\n",
    "plt.plot(eta_values, global_order_parameters_final)\n",
    "plt.xlabel('Noise $\\eta$')\n",
    "plt.ylabel('Order param')\n",
    "plt.tight_layout()\n",
    "plt.savefig('Order param with noise.pdf', bbox_inches='tight')\n",
    "plt.savefig('Order param with noise.png', bbox_inches='tight')"
   ]
  },
  {
   "cell_type": "code",
   "execution_count": 207,
   "id": "1819e468-cd9b-4545-a9e1-229c991a5b8d",
   "metadata": {},
   "outputs": [
    {
     "name": "stderr",
     "output_type": "stream",
     "text": [
      "C:\\Users\\desmo\\AppData\\Local\\Temp\\ipykernel_17620\\397586755.py:12: UserWarning: Tight layout not applied. The left and right margins cannot be made large enough to accommodate all axes decorations.\n",
      "  plt.tight_layout()\n"
     ]
    },
    {
     "data": {
      "image/png": "[encoded data removed]",
      "text/plain": [
       "<Figure size 200x200 with 1 Axes>"
      ]
     },
     "metadata": {},
     "output_type": "display_data"
    }
   ],
   "source": [
    "plt.figure(figsize=(2,2))\n",
    "plt.plot(time, global_order_parameter_all[0], label='$\\eta=0.1$')\n",
    "plt.plot(time, global_order_parameter_all[1], label='$\\eta=0.15$')\n",
    "plt.plot(time, global_order_parameter_all[2], label='$\\eta=0.2$')\n",
    "plt.plot(time, global_order_parameter_all[3], label='$\\eta=0.25$')\n",
    "plt.plot(time, global_order_parameter_all[4], label='$\\eta=0.3$')\n",
    "plt.plot(time, global_order_parameter_all[5], label='$\\eta=0.35$')\n",
    "plt.xlabel('Time')\n",
    "plt.ylabel('Order param')\n",
    "#plt.legend()\n",
    "plt.legend(loc='center left', bbox_to_anchor=(1, 0.5))\n",
    "plt.tight_layout()\n",
    "plt.savefig('Evolution of order param for different noise.pdf', bbox_inches='tight')\n",
    "plt.savefig('Evolution of order param for different noise.png', bbox_inches='tight')"
   ]
  },
  {
   "cell_type": "markdown",
   "id": "8e6549a2-7b04-4d4a-afe1-51d2ac48723e",
   "metadata": {},
   "source": [
    " "
   ]
  },
  {
   "cell_type": "code",
   "execution_count": null,
   "id": "01562170-9916-4f1c-acb8-f1d0f87396b2",
   "metadata": {},
   "outputs": [],
   "source": []
  }
 ],
 "metadata": {
  "kernelspec": {
   "display_name": "Python 3 (ipykernel)",
   "language": "python",
   "name": "python3"
  },
  "language_info": {
   "codemirror_mode": {
    "name": "ipython",
    "version": 3
   },
   "file_extension": ".py",
   "mimetype": "text/x-python",
   "name": "python",
   "nbconvert_exporter": "python",
   "pygments_lexer": "ipython3",
   "version": "3.11.7"
  }
 },
 "nbformat": 4,
 "nbformat_minor": 5
}
