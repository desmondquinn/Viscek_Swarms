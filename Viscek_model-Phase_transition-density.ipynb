{
 "cells": [
  {
   "cell_type": "code",
   "execution_count": 1,
   "id": "93ae7cef-035b-4a84-9da2-e70ed115afae",
   "metadata": {},
   "outputs": [],
   "source": [
    "import numpy as np\n",
    "import matplotlib.pyplot as plt\n",
    "import math\n",
    "from matplotlib.animation import FuncAnimation\n",
    "from IPython.display import HTML\n",
    "from tqdm import tqdm"
   ]
  },
  {
   "cell_type": "code",
   "execution_count": 2,
   "id": "5cf745f1-6127-40b2-b2ae-ab734765c4c8",
   "metadata": {},
   "outputs": [],
   "source": [
    "plt.rcParams.update({'font.size': 12,\n",
    "                     'axes.titlesize': 12,\n",
    "                     'axes.labelsize': 18,\n",
    "                     'lines.linewidth': 1,\n",
    "                     'lines.markersize': 10,\n",
    "                     'xtick.labelsize' : 10,\n",
    "                     'ytick.labelsize' : 10,\n",
    "                     'xtick.top' : True,\n",
    "                     'xtick.direction' : 'in',\n",
    "                     'ytick.right' : True,\n",
    "                     'ytick.direction' : 'in',}) "
   ]
  },
  {
   "cell_type": "markdown",
   "id": "1d1b5c3d-f4be-4796-878a-3737019900f2",
   "metadata": {},
   "source": [
    "### An individual bird $i$ at position $r_{i}(t)$ propelling with a speed $v_{0}$ in the direction defined by the angle $\\Theta_{i}(t)$ at time $t$ changes its direction to align with its neighbours within a distance $r$. \n",
    "### The dynamics is governed by the following 2 equations:"
   ]
  },
  {
   "cell_type": "markdown",
   "id": "611cce4d-12f1-41d4-99aa-1d10bc9ee760",
   "metadata": {},
   "source": [
    "### (1) $\\Theta_{i}(t+dt) = \\langle \\Theta_{j} \\rangle _{|r_{i} - r_{j}|<r} + \\eta $\n",
    "### (2) $ r_{i}(t + dt) = r_{i}(t) + v_{0} \\cdot dt \\cdot \\begin{bmatrix} \\cos \\Theta_{i}(t) \\\\ \\sin \\Theta_{i}(t) \\end{bmatrix} $"
   ]
  },
  {
   "cell_type": "markdown",
   "id": "36335ceb-30be-4aa1-928e-a81feac1bc1c",
   "metadata": {},
   "source": [
    "### where $\\eta$ is the uncertainty due to noise"
   ]
  },
  {
   "cell_type": "code",
   "execution_count": 88,
   "id": "4737b7c1-5880-4aea-8c9b-fc7e2b06f6cd",
   "metadata": {},
   "outputs": [],
   "source": [
    "#Define common configuration parameters\n",
    "L = 50\n",
    "#eta = 0.125\n",
    "#roi = 2.5\n",
    "eta = 0.01\n",
    "roi = 1.5\n",
    "dt = 1\n",
    "velocity = 0.8 #propulsion velocity\n",
    "\n",
    "rho_N = 0.8 #number density of agents\n",
    "N = int(rho_N*(L**2)) #number of agents in the defined 2D space"
   ]
  },
  {
   "cell_type": "code",
   "execution_count": 89,
   "id": "58e3bf72-bc35-4fe1-aa9c-77586b581406",
   "metadata": {},
   "outputs": [],
   "source": [
    "#initialise the agent coordinates and orientations\n",
    "#positions_x = np.random.uniform(0,L,N)\n",
    "#positions_y = np.random.uniform(0,L,N)\n",
    "positions = np.random.uniform(0,L,size=(N,2))\n",
    "orientations = np.random.uniform(-np.pi,np.pi,N)\n",
    "velocities = np.random.uniform(0,L,size=(N,2)) #velocity vectors"
   ]
  },
  {
   "cell_type": "code",
   "execution_count": 90,
   "id": "cbf13a4c-f4c6-49b0-baf4-8e383babed5e",
   "metadata": {},
   "outputs": [],
   "source": [
    "def get_neighbours(x0,y0,positions,roi):\n",
    "    ##Returns ids (index) of all neighbours within radius of influence of the particle \n",
    "    noi = [] #neighbours of influence\n",
    "    for i,(x,y) in enumerate(positions):\n",
    "        distance = np.sqrt((x-x0)**2 + (y-y0)**2)\n",
    "        if distance < roi:\n",
    "            noi.append(i)\n",
    "    return(noi)"
   ]
  },
  {
   "cell_type": "code",
   "execution_count": 91,
   "id": "244b4615-fd72-4470-9c59-ae582bf397b6",
   "metadata": {},
   "outputs": [],
   "source": [
    "def get_avg_unit_vector(noi,orientations):\n",
    "    unit_vec_list = []\n",
    "    for i in noi:\n",
    "        theta = orientations[i]\n",
    "        vec = np.array([np.cos(theta),np.sin(theta)])\n",
    "        mag = np.sqrt(vec[0]**2 + vec[1]**2)\n",
    "        unit_vec = vec/mag\n",
    "        unit_vec_list.append(unit_vec)\n",
    "    avg_unit_vec = np.mean(np.array(unit_vec_list),axis=0)\n",
    "    return(avg_unit_vec)"
   ]
  },
  {
   "cell_type": "code",
   "execution_count": 92,
   "id": "13c8f381-b10d-4cc2-be13-03d7fcb574cb",
   "metadata": {},
   "outputs": [
    {
     "name": "stderr",
     "output_type": "stream",
     "text": [
      "100%|██████████████████████████████████████████████████████████████████████████████████| 50/50 [09:14<00:00, 11.09s/it]\n"
     ]
    }
   ],
   "source": [
    "#Intialise the animation\n",
    "#fig, ax= plt.subplots(figsize=(10,10))\n",
    "#ax.set_aspect('equal', adjustable='box')\n",
    "#ax.set_axis_off()\n",
    "# Set the background color to black\n",
    "#ax.set_facecolor('black') \n",
    "#q_plot = ax.quiver(positions[:,0], positions[:,1], np.cos(orientations), np.sin(orientations), np.degrees(orientations), clim=[-180, 180], cmap='hsv'\n",
    "                  #,scale=80,headwidth=13,headlength=8,headaxislength=5)\n",
    "#ax.set_xlim(0, 50)\n",
    "#ax.set_xlim(0, 50)\n",
    "#fig.tight_layout()\n",
    "#plt.close()\n",
    "\n",
    "#tqdm progress bar\n",
    "#progress_bar = tqdm(total=total_steps, position=0, desc=\"Progress\")\n",
    "\n",
    "global_order_parameter = []\n",
    "\n",
    "total_steps = 50\n",
    "\n",
    "for f in tqdm(range(total_steps)):\n",
    "    for i,(xi,yi) in enumerate(positions):\n",
    "        neighbours = get_neighbours(xi,yi,positions,roi)\n",
    "        avg_unit_vector = get_avg_unit_vector(neighbours,orientations)\n",
    "        noise_vector = eta*np.random.uniform(-np.pi,np.pi,2)\n",
    "\n",
    "        #new orientation\n",
    "        new_orientation_vec = avg_unit_vector + noise_vector\n",
    "        \n",
    "        #compute new position\n",
    "        positions[i,:] += (new_orientation_vec)*dt*velocity\n",
    "        velocities[i,:] = (new_orientation_vec)*velocity # velocity vectors\n",
    "\n",
    "        #compute new orientation\n",
    "        orientations[i] = math.atan2(new_orientation_vec[1],new_orientation_vec[0]) #convert orientation vector into orientation angle\n",
    "\n",
    "    #implement periodic boundary condition\n",
    "    positions[positions>L] -= L\n",
    "    positions[positions<0] += L\n",
    "\n",
    "    #compute global order parameter\n",
    "    velocities_mean = np.mean(velocities,axis=0) #average over different particles\n",
    "    velocities_mean = (np.sqrt(velocities_mean[0]**2 + velocities_mean[1]**2))/(velocity) #compute the magnitude and normalise\n",
    "    global_order_parameter.append(velocities_mean)\n",
    "    \n",
    "    # Set the new vector data to the quiver plot\n",
    "    #q_plot.set_offsets(positions)\n",
    "    #q_plot.set_UVC(np.cos(orientations), np.sin(orientations), np.degrees(orientations))\n",
    "    #return q_plot,"
   ]
  },
  {
   "cell_type": "markdown",
   "id": "03264d3d-6179-4216-882d-6d5541c695e9",
   "metadata": {},
   "source": [
    "# Change of order parameter over time"
   ]
  },
  {
   "cell_type": "code",
   "execution_count": 93,
   "id": "209708e5-8d3c-4194-9149-c22138f7e54d",
   "metadata": {},
   "outputs": [
    {
     "data": {
      "text/plain": [
       "Text(0, 0.5, 'Order parameter')"
      ]
     },
     "execution_count": 93,
     "metadata": {},
     "output_type": "execute_result"
    },
    {
     "data": {
      "image/png": "[encoded data removed]",
      "text/plain": [
       "<Figure size 300x300 with 1 Axes>"
      ]
     },
     "metadata": {},
     "output_type": "display_data"
    }
   ],
   "source": [
    "time = np.linspace(0,total_steps,total_steps)\n",
    "plt.figure(figsize=(3,3))\n",
    "plt.scatter(time, global_order_parameter,s=5)\n",
    "plt.plot(time, global_order_parameter)\n",
    "plt.xlabel('Time')\n",
    "plt.ylabel('Order parameter')\n",
    "#plt.title('$\\eta=0.18; n=0.8 $')"
   ]
  },
  {
   "cell_type": "markdown",
   "id": "bda333db-1614-4e9c-9091-4ab0d1f7b0ff",
   "metadata": {},
   "source": [
    "# Influence of density $\\rho$"
   ]
  },
  {
   "cell_type": "code",
   "execution_count": 106,
   "id": "61e55eec-f654-426e-a947-4e93fcbc8fe4",
   "metadata": {},
   "outputs": [],
   "source": [
    "#Define common configuration parameters\n",
    "L = 50\n",
    "#eta = 0.125\n",
    "#roi = 2.5\n",
    "eta = 0.1\n",
    "roi = 1.5\n",
    "dt = 1\n",
    "velocity = 0.8 #propulsion velocity\n",
    "\n",
    "#rho_N = 0.8 #number density of agents\n",
    "#N = int(rho_N*(L**2)) #number of agents in the defined 2D space"
   ]
  },
  {
   "cell_type": "code",
   "execution_count": 107,
   "id": "4cc7cf3c-d32c-44d0-8b5a-4d1672b1e82f",
   "metadata": {},
   "outputs": [],
   "source": [
    "rho_N_values = np.array([0.1,0.3,0.5,0.7,0.9,1.1])\n",
    "#rho_N_values = np.array([0.05,0.15,0.25,0.35,0.45,0.55])\n",
    "N_values = rho_N_values*(L**2)\n",
    "global_order_parameter_all = []"
   ]
  },
  {
   "cell_type": "code",
   "execution_count": 108,
   "id": "b0a8b1a6-7c35-4024-b4cc-0dd32cbb0bab",
   "metadata": {},
   "outputs": [
    {
     "name": "stderr",
     "output_type": "stream",
     "text": [
      "100%|██████████████████████████████████████████████████████████████████████████████████| 50/50 [00:11<00:00,  4.44it/s]\n"
     ]
    }
   ],
   "source": [
    "N = int(N_values[0])\n",
    "\n",
    "positions = np.random.uniform(0,L,size=(N,2))\n",
    "orientations = np.random.uniform(-np.pi,np.pi,N)\n",
    "velocities = np.random.uniform(0,L,size=(N,2)) #velocity vectors\n",
    "\n",
    "global_order_parameter = []\n",
    "\n",
    "total_steps = 50\n",
    "\n",
    "for f in tqdm(range(total_steps)):\n",
    "    for i,(xi,yi) in enumerate(positions):\n",
    "        neighbours = get_neighbours(xi,yi,positions,roi)\n",
    "        avg_unit_vector = get_avg_unit_vector(neighbours,orientations)\n",
    "        noise_vector = eta*np.random.uniform(-np.pi,np.pi,2)\n",
    "\n",
    "        #new orientation\n",
    "        new_orientation_vec = avg_unit_vector + noise_vector\n",
    "        \n",
    "        #compute new position\n",
    "        positions[i,:] += (new_orientation_vec)*dt*velocity\n",
    "        velocities[i,:] = (new_orientation_vec)*velocity # velocity vectors\n",
    "\n",
    "        #compute new orientation\n",
    "        orientations[i] = math.atan2(new_orientation_vec[1],new_orientation_vec[0]) #convert orientation vector into orientation angle\n",
    "\n",
    "    #implement periodic boundary condition\n",
    "    positions[positions>L] -= L\n",
    "    positions[positions<0] += L\n",
    "\n",
    "    #compute global order parameter\n",
    "    velocities_mean = np.mean(velocities,axis=0) #average over different particles\n",
    "    velocities_mean = (np.sqrt(velocities_mean[0]**2 + velocities_mean[1]**2))/(velocity) #compute the magnitude and normalise\n",
    "    global_order_parameter.append(velocities_mean)\n",
    "    \n",
    "global_order_parameter_all.append(global_order_parameter)"
   ]
  },
  {
   "cell_type": "code",
   "execution_count": 109,
   "id": "ceef8401-7b50-4788-93b7-c68a251c0fde",
   "metadata": {},
   "outputs": [
    {
     "name": "stderr",
     "output_type": "stream",
     "text": [
      "100%|██████████████████████████████████████████████████████████████████████████████████| 50/50 [01:36<00:00,  1.93s/it]\n"
     ]
    }
   ],
   "source": [
    "N = int(N_values[1])\n",
    "\n",
    "positions = np.random.uniform(0,L,size=(N,2))\n",
    "orientations = np.random.uniform(-np.pi,np.pi,N)\n",
    "velocities = np.random.uniform(0,L,size=(N,2)) #velocity vectors\n",
    "\n",
    "global_order_parameter = []\n",
    "\n",
    "total_steps = 50\n",
    "\n",
    "for f in tqdm(range(total_steps)):\n",
    "    for i,(xi,yi) in enumerate(positions):\n",
    "        neighbours = get_neighbours(xi,yi,positions,roi)\n",
    "        avg_unit_vector = get_avg_unit_vector(neighbours,orientations)\n",
    "        noise_vector = eta*np.random.uniform(-np.pi,np.pi,2)\n",
    "\n",
    "        #new orientation\n",
    "        new_orientation_vec = avg_unit_vector + noise_vector\n",
    "        \n",
    "        #compute new position\n",
    "        positions[i,:] += (new_orientation_vec)*dt*velocity\n",
    "        velocities[i,:] = (new_orientation_vec)*velocity # velocity vectors\n",
    "\n",
    "        #compute new orientation\n",
    "        orientations[i] = math.atan2(new_orientation_vec[1],new_orientation_vec[0]) #convert orientation vector into orientation angle\n",
    "\n",
    "    #implement periodic boundary condition\n",
    "    positions[positions>L] -= L\n",
    "    positions[positions<0] += L\n",
    "\n",
    "    #compute global order parameter\n",
    "    velocities_mean = np.mean(velocities,axis=0) #average over different particles\n",
    "    velocities_mean = (np.sqrt(velocities_mean[0]**2 + velocities_mean[1]**2))/(velocity) #compute the magnitude and normalise\n",
    "    global_order_parameter.append(velocities_mean)\n",
    "    \n",
    "global_order_parameter_all.append(global_order_parameter)"
   ]
  },
  {
   "cell_type": "code",
   "execution_count": 110,
   "id": "d77f1d8a-325c-4872-a572-1358c8f2df90",
   "metadata": {},
   "outputs": [
    {
     "name": "stderr",
     "output_type": "stream",
     "text": [
      "100%|██████████████████████████████████████████████████████████████████████████████████| 50/50 [04:28<00:00,  5.38s/it]\n"
     ]
    }
   ],
   "source": [
    "N = int(N_values[2])\n",
    "\n",
    "positions = np.random.uniform(0,L,size=(N,2))\n",
    "orientations = np.random.uniform(-np.pi,np.pi,N)\n",
    "velocities = np.random.uniform(0,L,size=(N,2)) #velocity vectors\n",
    "\n",
    "global_order_parameter = []\n",
    "\n",
    "total_steps = 50\n",
    "\n",
    "for f in tqdm(range(total_steps)):\n",
    "    for i,(xi,yi) in enumerate(positions):\n",
    "        neighbours = get_neighbours(xi,yi,positions,roi)\n",
    "        avg_unit_vector = get_avg_unit_vector(neighbours,orientations)\n",
    "        noise_vector = eta*np.random.uniform(-np.pi,np.pi,2)\n",
    "\n",
    "        #new orientation\n",
    "        new_orientation_vec = avg_unit_vector + noise_vector\n",
    "        \n",
    "        #compute new position\n",
    "        positions[i,:] += (new_orientation_vec)*dt*velocity\n",
    "        velocities[i,:] = (new_orientation_vec)*velocity # velocity vectors\n",
    "\n",
    "        #compute new orientation\n",
    "        orientations[i] = math.atan2(new_orientation_vec[1],new_orientation_vec[0]) #convert orientation vector into orientation angle\n",
    "\n",
    "    #implement periodic boundary condition\n",
    "    positions[positions>L] -= L\n",
    "    positions[positions<0] += L\n",
    "\n",
    "    #compute global order parameter\n",
    "    velocities_mean = np.mean(velocities,axis=0) #average over different particles\n",
    "    velocities_mean = (np.sqrt(velocities_mean[0]**2 + velocities_mean[1]**2))/(velocity) #compute the magnitude and normalise\n",
    "    global_order_parameter.append(velocities_mean)\n",
    "    \n",
    "global_order_parameter_all.append(global_order_parameter)"
   ]
  },
  {
   "cell_type": "code",
   "execution_count": 111,
   "id": "2a7e46b0-7101-4599-9402-abc8d97417a0",
   "metadata": {},
   "outputs": [
    {
     "name": "stderr",
     "output_type": "stream",
     "text": [
      "100%|██████████████████████████████████████████████████████████████████████████████████| 50/50 [07:59<00:00,  9.58s/it]\n"
     ]
    }
   ],
   "source": [
    "N = int(N_values[3])\n",
    "\n",
    "positions = np.random.uniform(0,L,size=(N,2))\n",
    "orientations = np.random.uniform(-np.pi,np.pi,N)\n",
    "velocities = np.random.uniform(0,L,size=(N,2)) #velocity vectors\n",
    "\n",
    "global_order_parameter = []\n",
    "\n",
    "total_steps = 50\n",
    "\n",
    "for f in tqdm(range(total_steps)):\n",
    "    for i,(xi,yi) in enumerate(positions):\n",
    "        neighbours = get_neighbours(xi,yi,positions,roi)\n",
    "        avg_unit_vector = get_avg_unit_vector(neighbours,orientations)\n",
    "        noise_vector = eta*np.random.uniform(-np.pi,np.pi,2)\n",
    "\n",
    "        #new orientation\n",
    "        new_orientation_vec = avg_unit_vector + noise_vector\n",
    "        \n",
    "        #compute new position\n",
    "        positions[i,:] += (new_orientation_vec)*dt*velocity\n",
    "        velocities[i,:] = (new_orientation_vec)*velocity # velocity vectors\n",
    "\n",
    "        #compute new orientation\n",
    "        orientations[i] = math.atan2(new_orientation_vec[1],new_orientation_vec[0]) #convert orientation vector into orientation angle\n",
    "\n",
    "    #implement periodic boundary condition\n",
    "    positions[positions>L] -= L\n",
    "    positions[positions<0] += L\n",
    "\n",
    "    #compute global order parameter\n",
    "    velocities_mean = np.mean(velocities,axis=0) #average over different particles\n",
    "    velocities_mean = (np.sqrt(velocities_mean[0]**2 + velocities_mean[1]**2))/(velocity) #compute the magnitude and normalise\n",
    "    global_order_parameter.append(velocities_mean)\n",
    "    \n",
    "global_order_parameter_all.append(global_order_parameter)"
   ]
  },
  {
   "cell_type": "code",
   "execution_count": 112,
   "id": "66d34968-a24c-4eb5-96eb-6a434d2e5388",
   "metadata": {},
   "outputs": [
    {
     "name": "stderr",
     "output_type": "stream",
     "text": [
      "100%|██████████████████████████████████████████████████████████████████████████████████| 50/50 [11:31<00:00, 13.84s/it]\n"
     ]
    }
   ],
   "source": [
    "N = int(N_values[4])\n",
    "\n",
    "positions = np.random.uniform(0,L,size=(N,2))\n",
    "orientations = np.random.uniform(-np.pi,np.pi,N)\n",
    "velocities = np.random.uniform(0,L,size=(N,2)) #velocity vectors\n",
    "\n",
    "global_order_parameter = []\n",
    "\n",
    "total_steps = 50\n",
    "\n",
    "for f in tqdm(range(total_steps)):\n",
    "    for i,(xi,yi) in enumerate(positions):\n",
    "        neighbours = get_neighbours(xi,yi,positions,roi)\n",
    "        avg_unit_vector = get_avg_unit_vector(neighbours,orientations)\n",
    "        noise_vector = eta*np.random.uniform(-np.pi,np.pi,2)\n",
    "\n",
    "        #new orientation\n",
    "        new_orientation_vec = avg_unit_vector + noise_vector\n",
    "        \n",
    "        #compute new position\n",
    "        positions[i,:] += (new_orientation_vec)*dt*velocity\n",
    "        velocities[i,:] = (new_orientation_vec)*velocity # velocity vectors\n",
    "\n",
    "        #compute new orientation\n",
    "        orientations[i] = math.atan2(new_orientation_vec[1],new_orientation_vec[0]) #convert orientation vector into orientation angle\n",
    "\n",
    "    #implement periodic boundary condition\n",
    "    positions[positions>L] -= L\n",
    "    positions[positions<0] += L\n",
    "\n",
    "    #compute global order parameter\n",
    "    velocities_mean = np.mean(velocities,axis=0) #average over different particles\n",
    "    velocities_mean = (np.sqrt(velocities_mean[0]**2 + velocities_mean[1]**2))/(velocity) #compute the magnitude and normalise\n",
    "    global_order_parameter.append(velocities_mean)\n",
    "    \n",
    "global_order_parameter_all.append(global_order_parameter)"
   ]
  },
  {
   "cell_type": "code",
   "execution_count": 113,
   "id": "ba42f91c-7484-4fd2-a7b5-08cb35040539",
   "metadata": {},
   "outputs": [
    {
     "name": "stderr",
     "output_type": "stream",
     "text": [
      "100%|██████████████████████████████████████████████████████████████████████████████████| 50/50 [17:09<00:00, 20.58s/it]\n"
     ]
    }
   ],
   "source": [
    "N = int(N_values[5])\n",
    "\n",
    "positions = np.random.uniform(0,L,size=(N,2))\n",
    "orientations = np.random.uniform(-np.pi,np.pi,N)\n",
    "velocities = np.random.uniform(0,L,size=(N,2)) #velocity vectors\n",
    "\n",
    "global_order_parameter = []\n",
    "\n",
    "total_steps = 50\n",
    "\n",
    "for f in tqdm(range(total_steps)):\n",
    "    for i,(xi,yi) in enumerate(positions):\n",
    "        neighbours = get_neighbours(xi,yi,positions,roi)\n",
    "        avg_unit_vector = get_avg_unit_vector(neighbours,orientations)\n",
    "        noise_vector = eta*np.random.uniform(-np.pi,np.pi,2)\n",
    "\n",
    "        #new orientation\n",
    "        new_orientation_vec = avg_unit_vector + noise_vector\n",
    "        \n",
    "        #compute new position\n",
    "        positions[i,:] += (new_orientation_vec)*dt*velocity\n",
    "        velocities[i,:] = (new_orientation_vec)*velocity # velocity vectors\n",
    "\n",
    "        #compute new orientation\n",
    "        orientations[i] = math.atan2(new_orientation_vec[1],new_orientation_vec[0]) #convert orientation vector into orientation angle\n",
    "\n",
    "    #implement periodic boundary condition\n",
    "    positions[positions>L] -= L\n",
    "    positions[positions<0] += L\n",
    "\n",
    "    #compute global order parameter\n",
    "    velocities_mean = np.mean(velocities,axis=0) #average over different particles\n",
    "    velocities_mean = (np.sqrt(velocities_mean[0]**2 + velocities_mean[1]**2))/(velocity) #compute the magnitude and normalise\n",
    "    global_order_parameter.append(velocities_mean)\n",
    "    \n",
    "global_order_parameter_all.append(global_order_parameter)"
   ]
  },
  {
   "cell_type": "code",
   "execution_count": 123,
   "id": "2bcf60cc-df7c-4e59-a79d-673672201dc9",
   "metadata": {},
   "outputs": [
    {
     "data": {
      "image/png": "[encoded data removed]",
      "text/plain": [
       "<Figure size 230x230 with 1 Axes>"
      ]
     },
     "metadata": {},
     "output_type": "display_data"
    }
   ],
   "source": [
    "global_order_parameters_final = [global_order_parameter_all[0][-1],global_order_parameter_all[1][-1],global_order_parameter_all[2][-1],\n",
    "         global_order_parameter_all[3][-1],global_order_parameter_all[4][-1],global_order_parameter_all[5][-1]]\n",
    "\n",
    "plt.figure(figsize=(2.3,2.3))\n",
    "plt.scatter(rho_N_values, global_order_parameters_final, s=25)\n",
    "plt.plot(rho_N_values, global_order_parameters_final )\n",
    "plt.xlabel('Density n')\n",
    "plt.ylabel('Order param')\n",
    "plt.tight_layout()\n",
    "plt.savefig('Order param with density.pdf', bbox_inches='tight')\n",
    "plt.savefig('Order param with density.png', bbox_inches='tight')"
   ]
  },
  {
   "cell_type": "code",
   "execution_count": 124,
   "id": "1819e468-cd9b-4545-a9e1-229c991a5b8d",
   "metadata": {},
   "outputs": [
    {
     "name": "stderr",
     "output_type": "stream",
     "text": [
      "C:\\Users\\desmo\\AppData\\Local\\Temp\\ipykernel_21756\\571076050.py:12: UserWarning: Tight layout not applied. The left and right margins cannot be made large enough to accommodate all axes decorations.\n",
      "  plt.tight_layout()\n"
     ]
    },
    {
     "data": {
      "image/png": "[encoded data removed]",
      "text/plain": [
       "<Figure size 200x200 with 1 Axes>"
      ]
     },
     "metadata": {},
     "output_type": "display_data"
    }
   ],
   "source": [
    "plt.figure(figsize=(2,2))\n",
    "plt.plot(time, global_order_parameter_all[0], label='$n=0.1$')\n",
    "plt.plot(time, global_order_parameter_all[1], label='$n=0.3$')\n",
    "plt.plot(time, global_order_parameter_all[2], label='$n=0.5$')\n",
    "plt.plot(time, global_order_parameter_all[3], label='$n=0.7$')\n",
    "plt.plot(time, global_order_parameter_all[4], label='$n=0.9$')\n",
    "plt.plot(time, global_order_parameter_all[5], label='$n=1.1$')\n",
    "plt.xlabel('Time')\n",
    "plt.ylabel('Order param')\n",
    "#plt.legend()\n",
    "plt.legend(loc='center left', bbox_to_anchor=(1, 0.5))\n",
    "plt.tight_layout()\n",
    "plt.savefig('Evolution of order param for different density.pdf', bbox_inches='tight')\n",
    "plt.savefig('Evolution of order param for different density.png', bbox_inches='tight')"
   ]
  },
  {
   "cell_type": "code",
   "execution_count": null,
   "id": "019c6cf0-6888-4210-88da-4d49d3951213",
   "metadata": {},
   "outputs": [],
   "source": []
  },
  {
   "cell_type": "code",
   "execution_count": null,
   "id": "655da872-0c8b-4c4e-a9db-7c6d2d6def1a",
   "metadata": {},
   "outputs": [],
   "source": []
  }
 ],
 "metadata": {
  "kernelspec": {
   "display_name": "Python 3 (ipykernel)",
   "language": "python",
   "name": "python3"
  },
  "language_info": {
   "codemirror_mode": {
    "name": "ipython",
    "version": 3
   },
   "file_extension": ".py",
   "mimetype": "text/x-python",
   "name": "python",
   "nbconvert_exporter": "python",
   "pygments_lexer": "ipython3",
   "version": "3.11.7"
  }
 },
 "nbformat": 4,
 "nbformat_minor": 5
}
